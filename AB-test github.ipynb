{
 "cells": [
  {
   "cell_type": "markdown",
   "id": "cebae245",
   "metadata": {},
   "source": [
    "# АНАЛИЗ ЭФФЕКТИВНОСТИ ДВУХ ВАРИАНТОВ ПОСАДОЧНОЙ СТРАНИЦЫ\n",
    "\n",
    "Представьте, что вы — Data Scientist в туристической фирме. Компания планирует запустить новую акцию, чтобы продать как можно больше туров. Команда разработала два варианта посадочной страницы официального сайта и провела A/B-тестирование. В результате эксперимента были собраны данные — скачайте их по ссылке ниже."
   ]
  },
  {
   "cell_type": "markdown",
   "id": "6be3b371",
   "metadata": {},
   "source": [
    "Вам предстоит решить настоящую бизнес-задачу: проанализировать эффективность обоих вариантов посадочной страницы сразу по двум критериям — конверсии покупки и ежедневному среднему чеку.\n",
    "\n",
    "Вы должны убедиться, что A/B-тестирование было проведено корректно, проверить факт стабилизации метрик и обоснованно ответить на ключевой вопрос турагентства: какой вариант посадочной страницы более предпочтителен по метрикам конверсии и ежедневного среднего чека?\n",
    "\n",
    "Итак, компания предлагает следующие варианты туров:\n",
    "\n",
    "- Таиланд — 100 000 рублей;\n",
    "- Турция — 60 000 рублей;\n",
    "- Мальдивы — 200 000 рублей;\n",
    "- Санкт-Петербург — 10 000 рублей;\n",
    "- Камчатка — 150 000 рублей.\n",
    "\n",
    "Прочитаем наши данные и посмотрим на столбцы таблицы:"
   ]
  },
  {
   "cell_type": "code",
   "execution_count": 47,
   "id": "3878468b",
   "metadata": {},
   "outputs": [],
   "source": [
    "import pandas as pd\n",
    "import matplotlib.pyplot as plt\n",
    "import seaborn as sns"
   ]
  },
  {
   "cell_type": "code",
   "execution_count": 48,
   "id": "e6001c04",
   "metadata": {},
   "outputs": [
    {
     "data": {
      "application/vnd.microsoft.datawrangler.viewer.v0+json": {
       "columns": [
        {
         "name": "index",
         "rawType": "int64",
         "type": "integer"
        },
        {
         "name": "user_id",
         "rawType": "int64",
         "type": "integer"
        },
        {
         "name": "date",
         "rawType": "object",
         "type": "string"
        },
        {
         "name": "group",
         "rawType": "object",
         "type": "string"
        },
        {
         "name": "purchase",
         "rawType": "int64",
         "type": "integer"
        },
        {
         "name": "price",
         "rawType": "int64",
         "type": "integer"
        }
       ],
       "ref": "bb148055-0eab-4dc0-a3a4-841df3f470ee",
       "rows": [
        [
         "0",
         "851104",
         "2021-01-21",
         "A",
         "0",
         "0"
        ],
        [
         "1",
         "804228",
         "2021-01-12",
         "A",
         "0",
         "0"
        ],
        [
         "2",
         "661590",
         "2021-01-11",
         "B",
         "0",
         "0"
        ],
        [
         "3",
         "853541",
         "2021-01-08",
         "B",
         "0",
         "0"
        ],
        [
         "4",
         "864975",
         "2021-01-21",
         "A",
         "1",
         "150000"
        ]
       ],
       "shape": {
        "columns": 5,
        "rows": 5
       }
      },
      "text/html": [
       "<div>\n",
       "<style scoped>\n",
       "    .dataframe tbody tr th:only-of-type {\n",
       "        vertical-align: middle;\n",
       "    }\n",
       "\n",
       "    .dataframe tbody tr th {\n",
       "        vertical-align: top;\n",
       "    }\n",
       "\n",
       "    .dataframe thead th {\n",
       "        text-align: right;\n",
       "    }\n",
       "</style>\n",
       "<table border=\"1\" class=\"dataframe\">\n",
       "  <thead>\n",
       "    <tr style=\"text-align: right;\">\n",
       "      <th></th>\n",
       "      <th>user_id</th>\n",
       "      <th>date</th>\n",
       "      <th>group</th>\n",
       "      <th>purchase</th>\n",
       "      <th>price</th>\n",
       "    </tr>\n",
       "  </thead>\n",
       "  <tbody>\n",
       "    <tr>\n",
       "      <th>0</th>\n",
       "      <td>851104</td>\n",
       "      <td>2021-01-21</td>\n",
       "      <td>A</td>\n",
       "      <td>0</td>\n",
       "      <td>0</td>\n",
       "    </tr>\n",
       "    <tr>\n",
       "      <th>1</th>\n",
       "      <td>804228</td>\n",
       "      <td>2021-01-12</td>\n",
       "      <td>A</td>\n",
       "      <td>0</td>\n",
       "      <td>0</td>\n",
       "    </tr>\n",
       "    <tr>\n",
       "      <th>2</th>\n",
       "      <td>661590</td>\n",
       "      <td>2021-01-11</td>\n",
       "      <td>B</td>\n",
       "      <td>0</td>\n",
       "      <td>0</td>\n",
       "    </tr>\n",
       "    <tr>\n",
       "      <th>3</th>\n",
       "      <td>853541</td>\n",
       "      <td>2021-01-08</td>\n",
       "      <td>B</td>\n",
       "      <td>0</td>\n",
       "      <td>0</td>\n",
       "    </tr>\n",
       "    <tr>\n",
       "      <th>4</th>\n",
       "      <td>864975</td>\n",
       "      <td>2021-01-21</td>\n",
       "      <td>A</td>\n",
       "      <td>1</td>\n",
       "      <td>150000</td>\n",
       "    </tr>\n",
       "  </tbody>\n",
       "</table>\n",
       "</div>"
      ],
      "text/plain": [
       "   user_id        date group  purchase   price\n",
       "0   851104  2021-01-21     A         0       0\n",
       "1   804228  2021-01-12     A         0       0\n",
       "2   661590  2021-01-11     B         0       0\n",
       "3   853541  2021-01-08     B         0       0\n",
       "4   864975  2021-01-21     A         1  150000"
      ]
     },
     "execution_count": 48,
     "metadata": {},
     "output_type": "execute_result"
    }
   ],
   "source": [
    "data = pd.read_csv('data/ab_data_tourist.csv')\n",
    "data.head()"
   ]
  },
  {
   "cell_type": "markdown",
   "id": "07a9108b",
   "metadata": {},
   "source": [
    "Наша таблица представлена следующими полями:\n",
    "- user_id — идентификатор пользователя, зашедшего на сайт;\n",
    "- data — дата посещения сайта;\n",
    "- group — группа теста (контрольная — А или тестовая — B);\n",
    "- purchase — признак покупки: совершил ли пользователь покупку тура (1 — да, 0 — нет);\n",
    "- price — цена купленного тура (если покупка не состоялась, цена равна 0)."
   ]
  },
  {
   "cell_type": "markdown",
   "id": "e0c52a08",
   "metadata": {},
   "source": [
    "## 1. Анализ структуры данных и их предобработку:\n",
    "\n"
   ]
  },
  {
   "cell_type": "markdown",
   "id": "69255e35",
   "metadata": {},
   "source": [
    "исследовнание структуры данных;"
   ]
  },
  {
   "cell_type": "code",
   "execution_count": 3,
   "id": "aa69c27f",
   "metadata": {},
   "outputs": [
    {
     "name": "stdout",
     "output_type": "stream",
     "text": [
      "(294478, 5)\n"
     ]
    }
   ],
   "source": [
    "# Размер данных\n",
    "print(data.shape)"
   ]
  },
  {
   "cell_type": "code",
   "execution_count": 4,
   "id": "bb15cdbc",
   "metadata": {},
   "outputs": [
    {
     "name": "stdout",
     "output_type": "stream",
     "text": [
      "<class 'pandas.core.frame.DataFrame'>\n",
      "RangeIndex: 294478 entries, 0 to 294477\n",
      "Data columns (total 5 columns):\n",
      " #   Column    Non-Null Count   Dtype \n",
      "---  ------    --------------   ----- \n",
      " 0   user_id   294478 non-null  int64 \n",
      " 1   date      294478 non-null  object\n",
      " 2   group     294478 non-null  object\n",
      " 3   purchase  294478 non-null  int64 \n",
      " 4   price     294478 non-null  int64 \n",
      "dtypes: int64(3), object(2)\n",
      "memory usage: 11.2+ MB\n",
      "None\n"
     ]
    }
   ],
   "source": [
    "# Информация о данных\n",
    "print(data.info())"
   ]
  },
  {
   "cell_type": "code",
   "execution_count": 5,
   "id": "2af11bbe",
   "metadata": {},
   "outputs": [
    {
     "name": "stdout",
     "output_type": "stream",
     "text": [
      "             user_id       purchase          price\n",
      "count  294478.000000  294478.000000  294478.000000\n",
      "mean   787974.124733       0.119659   10154.782361\n",
      "std     91210.823776       0.324563   35153.824872\n",
      "min    630000.000000       0.000000       0.000000\n",
      "25%    709032.250000       0.000000       0.000000\n",
      "50%    787933.500000       0.000000       0.000000\n",
      "75%    866911.750000       0.000000       0.000000\n",
      "max    945999.000000       1.000000  200000.000000\n"
     ]
    }
   ],
   "source": [
    "# Статистика для числовых данных\n",
    "print(data.describe())"
   ]
  },
  {
   "cell_type": "markdown",
   "id": "e5e0719e",
   "metadata": {},
   "source": [
    "преобразование столбцы к необходимым типам данных."
   ]
  },
  {
   "cell_type": "code",
   "execution_count": 49,
   "id": "9563d87d",
   "metadata": {},
   "outputs": [],
   "source": [
    "# Преобразование даты в формат datetime\n",
    "data['date'] = pd.to_datetime(data['date'])"
   ]
  },
  {
   "cell_type": "code",
   "execution_count": 50,
   "id": "f846bef1",
   "metadata": {},
   "outputs": [
    {
     "name": "stdout",
     "output_type": "stream",
     "text": [
      "<class 'pandas.core.frame.DataFrame'>\n",
      "RangeIndex: 294478 entries, 0 to 294477\n",
      "Data columns (total 5 columns):\n",
      " #   Column    Non-Null Count   Dtype         \n",
      "---  ------    --------------   -----         \n",
      " 0   user_id   294478 non-null  int64         \n",
      " 1   date      294478 non-null  datetime64[ns]\n",
      " 2   group     294478 non-null  object        \n",
      " 3   purchase  294478 non-null  int64         \n",
      " 4   price     294478 non-null  int64         \n",
      "dtypes: datetime64[ns](1), int64(3), object(1)\n",
      "memory usage: 11.2+ MB\n"
     ]
    }
   ],
   "source": [
    "data.info()"
   ]
  },
  {
   "cell_type": "markdown",
   "id": "f12cfa50",
   "metadata": {},
   "source": [
    "Убедимся в одинаковой длительности проведения A/B-тестирования в каждой из групп. Если длительность разная, унифицируем данные, удалив лишние данные для соответствующей группы.\n",
    "\n",
    "- Определите период тестирования для каждой группы:"
   ]
  },
  {
   "cell_type": "code",
   "execution_count": 5,
   "id": "43aef877",
   "metadata": {},
   "outputs": [
    {
     "name": "stdout",
     "output_type": "stream",
     "text": [
      "group\n",
      "A   2021-01-02\n",
      "B   2021-01-02\n",
      "Name: date, dtype: datetime64[ns]\n",
      "group\n",
      "A   2021-01-24\n",
      "B   2021-01-24\n",
      "Name: date, dtype: datetime64[ns]\n"
     ]
    }
   ],
   "source": [
    "# Находим минимальные и максимальные даты для каждой группы\n",
    "min_dates = data.groupby('group')['date'].min()\n",
    "max_dates = data.groupby('group')['date'].max()\n",
    "\n",
    "print(min_dates)\n",
    "print(max_dates)"
   ]
  },
  {
   "cell_type": "markdown",
   "id": "0ad7a9ce",
   "metadata": {},
   "source": [
    "Данные в каждой группе находятся к одинаковому периоду тестирования. Это важно для того, чтобы результаты теста были корректными и сравнимыми."
   ]
  },
  {
   "cell_type": "code",
   "execution_count": null,
   "id": "a161796d",
   "metadata": {},
   "outputs": [],
   "source": [
    "# 2. Проверьте равенство периодов:\n",
    "# После выполнения предыдущего шага вы увидите, что даты начала и окончания могут различаться для каждой группы.\n",
    "# 3. Найдите общий период:\n",
    "# Общая дата начала (максимальная из минимальных)\n",
    "# start_date = min_dates.max()\n",
    "# Общая дата окончания (минимальная из максимальных)\n",
    "# end_date = max_dates.min()\n",
    "# print(f\"Общий период тестирования: {start_date} - {end_date}\")\n",
    "# 4 Унифицируйте длительность тестирования, удалив лишние данные:\n",
    "# Оставляем данные только в указанный период\n",
    "# data = data[(data['date'] >= start_date) & (data['date'] <= end_date)]\n",
    "# 5. Проверьте результат:"
   ]
  },
  {
   "cell_type": "markdown",
   "id": "d7c78022",
   "metadata": {},
   "source": [
    "Проверим данные на наличие пропусков и избавимся от них, если нужно."
   ]
  },
  {
   "cell_type": "code",
   "execution_count": 51,
   "id": "0ec02ffd",
   "metadata": {},
   "outputs": [
    {
     "data": {
      "application/vnd.microsoft.datawrangler.viewer.v0+json": {
       "columns": [
        {
         "name": "index",
         "rawType": "object",
         "type": "string"
        },
        {
         "name": "0",
         "rawType": "int64",
         "type": "integer"
        }
       ],
       "ref": "42e93da8-6cef-498b-bb7b-a756dc60baac",
       "rows": [
        [
         "user_id",
         "0"
        ],
        [
         "date",
         "0"
        ],
        [
         "group",
         "0"
        ],
        [
         "purchase",
         "0"
        ],
        [
         "price",
         "0"
        ]
       ],
       "shape": {
        "columns": 1,
        "rows": 5
       }
      },
      "text/plain": [
       "user_id     0\n",
       "date        0\n",
       "group       0\n",
       "purchase    0\n",
       "price       0\n",
       "dtype: int64"
      ]
     },
     "metadata": {},
     "output_type": "display_data"
    }
   ],
   "source": [
    "display(data.isnull().sum())"
   ]
  },
  {
   "cell_type": "markdown",
   "id": "f31ad51b",
   "metadata": {},
   "source": [
    "Проверим, есть ли пользователи, которые в процессе A/B-теста попали в обе группы. Если да, исключим пользователей, оказавшихся в обеих группах."
   ]
  },
  {
   "cell_type": "code",
   "execution_count": 7,
   "id": "a9bf9171",
   "metadata": {},
   "outputs": [
    {
     "data": {
      "text/plain": [
       "False"
      ]
     },
     "execution_count": 7,
     "metadata": {},
     "output_type": "execute_result"
    }
   ],
   "source": [
    "# Проверим, есть у нас такие записи: для этого сравним число уникальных значений в столбце id с числом строк\n",
    "data['user_id'].nunique() == data.shape[0]"
   ]
  },
  {
   "cell_type": "markdown",
   "id": "1f0f9898",
   "metadata": {},
   "source": [
    "Заметно чьо не всё в порядке: каждой записи в таблице не соответствует свой уникальный идентификатор"
   ]
  },
  {
   "cell_type": "code",
   "execution_count": 52,
   "id": "a0f663c0",
   "metadata": {},
   "outputs": [
    {
     "data": {
      "text/plain": [
       "Index([630320, 630805, 630871, 630887, 631008, 631337, 631459, 631838, 632069,\n",
       "       632464,\n",
       "       ...\n",
       "       944742, 944777, 944979, 945125, 945227, 945272, 945308, 945369, 945387,\n",
       "       945627],\n",
       "      dtype='int64', name='user_id', length=1895)"
      ]
     },
     "metadata": {},
     "output_type": "display_data"
    }
   ],
   "source": [
    "# Находим пользователей в обеих группах\n",
    "users_in_both_groups = data.groupby('user_id')['group'].nunique()\n",
    "conflicted_users = users_in_both_groups[users_in_both_groups > 1].index\n",
    "display(conflicted_users)"
   ]
  },
  {
   "cell_type": "code",
   "execution_count": 53,
   "id": "47bd632e",
   "metadata": {},
   "outputs": [
    {
     "name": "stdout",
     "output_type": "stream",
     "text": [
      "Найдено 1895 пользователей в обеих группах\n",
      "Осталось 290688 записей после очистки\n"
     ]
    }
   ],
   "source": [
    "# Фильтруем данные, исключая этих пользователей\n",
    "clean_data = data[~data['user_id'].isin(conflicted_users)]\n",
    "\n",
    "print(f\"Найдено {len(conflicted_users)} пользователей в обеих группах\")\n",
    "print(f\"Осталось {len(clean_data)} записей после очистки\")"
   ]
  },
  {
   "cell_type": "markdown",
   "id": "cad98f5f",
   "metadata": {},
   "source": [
    "## 2. Сделайте первичный анализ результатов A/B-тестирования:"
   ]
  },
  {
   "cell_type": "markdown",
   "id": "824701a8",
   "metadata": {},
   "source": [
    "## Рассчитайте вспомогательные показатели для контрольной и тестовой групп:\n",
    "- количество посещений сайта;\n",
    "- суммарное количество совершённых покупок;\n",
    "- сумма всех покупок.\n"
   ]
  },
  {
   "cell_type": "code",
   "execution_count": 54,
   "id": "bcd43db2",
   "metadata": {},
   "outputs": [
    {
     "name": "stdout",
     "output_type": "stream",
     "text": [
      "  group  visits  purchases     revenue\n",
      "0     A  145307      17487  1417780000\n",
      "1     B  145381      17290  1533010000\n"
     ]
    }
   ],
   "source": [
    "summary = clean_data.groupby('group').agg(\n",
    "    visits=('user_id', 'count'),\n",
    "    purchases=('purchase', 'sum'),\n",
    "    revenue=('price', 'sum')\n",
    ").reset_index()\n",
    "print(summary)\n"
   ]
  },
  {
   "cell_type": "markdown",
   "id": "9b319906",
   "metadata": {},
   "source": [
    "- Сделайте промежуточные выводы по построенной таблице. Сопоставимо ли количество посещений обоих вариантов посадочной страницы? Можно ли говорить о сбалансированности выборок?"
   ]
  },
  {
   "cell_type": "markdown",
   "id": "340e8f23",
   "metadata": {},
   "source": [
    "Промежуточные выводы по результатам A/B-теста\n",
    "\n",
    "- Количество посещений сайта\n",
    "  - Группа A: 145 307\n",
    "  - Группа B: 145 381\n",
    "\n",
    "  Разница составляет всего 74 посещения — это менее 0,1%. Такой небольшой разброс говорит о том, что трафик был распределён между вариантами посадочной страницы практически равномерно.\n",
    "\n",
    "- Сбалансированность выборок  \n",
    "  Количество пользователей в обеих группах почти одинаковое. Это означает, что выборки хорошо сбалансированы, и тест проведён корректно по количеству посетителей.\n",
    "\n",
    "- Промежуточный вывод  \n",
    "  Можно утверждать, что по базовым метрикам (размер выборок) эксперимент не имеет перекоса и обе группы сопоставимы между собой. Следовательно, дальнейший анализ показателей конверсии и среднего чека будет корректным и выводы по результатам теста будут достоверны."
   ]
  },
  {
   "cell_type": "markdown",
   "id": "d306249a",
   "metadata": {},
   "source": [
    "## В каждой из групп рассчитайте ключевые показатели:\n",
    "- конверсия;\n",
    "- средний чек.\n"
   ]
  },
  {
   "cell_type": "code",
   "execution_count": 55,
   "id": "045e82b6",
   "metadata": {},
   "outputs": [
    {
     "name": "stdout",
     "output_type": "stream",
     "text": [
      "Конверсия (%):\n",
      "       conversion_rate\n",
      "group                 \n",
      "A            12.034520\n",
      "B            11.892888\n",
      "\n",
      "Средний чек (руб):\n",
      "group\n",
      "A    81076.228055\n",
      "B    88664.545980\n",
      "Name: price, dtype: float64\n"
     ]
    }
   ],
   "source": [
    "# Расчет конверсии\n",
    "conversion = clean_data.groupby('group')['purchase'].agg(['sum', 'count'])\n",
    "conversion['conversion_rate'] = (conversion['sum'] / conversion['count']) * 100\n",
    "\n",
    "# Расчет среднего чека (только для тех, кто купил)\n",
    "avg_receipt = clean_data[clean_data['purchase'] == 1].groupby('group')['price'].mean()\n",
    "\n",
    "print(\"Конверсия (%):\")\n",
    "print(conversion[['conversion_rate']])\n",
    "print(\"\\nСредний чек (руб):\")\n",
    "print(avg_receipt)"
   ]
  },
  {
   "cell_type": "markdown",
   "id": "7f9a55e4",
   "metadata": {},
   "source": [
    "- Сделайте первичные выводы о результатах A/B-тестирования на основе показателей конверсии и среднего чека в каждой из групп. По какому(-им) показателю(-ям), на первый взгляд, вариант А эффективнее варианта B и наоборот?"
   ]
  },
  {
   "cell_type": "markdown",
   "id": "afaa4f94",
   "metadata": {},
   "source": [
    "Первичные выводы по результатам A/B-теста\n",
    "\n",
    "1. Конверсия (доля пользователей, совершивших покупку)\n",
    "- Группа A: 12.03%\n",
    "- Группа B: 11.89%\n",
    "\n",
    "Разница: +0.14% в пользу группы A\n",
    "\n",
    "🔹 Вывод:\n",
    "- Конверсия в группе A немного выше, но разница минимальна (0.14%). Возможно, статистически незначимая.\n",
    "\n",
    "2. Средний чек (средняя стоимость купленного тура)\n",
    "- Группа A: 81 076 руб.\n",
    "- Группа B: 88 665 руб.\n",
    "\n",
    "Разница: +7 589 руб. в пользу группы B\n",
    "\n",
    "🔹 Вывод:\n",
    "- Средний чек в группе B значительно выше (на ~9.4%). Это может говорить о том, что вариант страницы B лучше мотивирует пользователей покупать более дорогие туры."
   ]
  },
  {
   "cell_type": "markdown",
   "id": "8065fe9b",
   "metadata": {},
   "source": [
    "## Сравните варианты A/B по покупательской способности каждого из туров. Для этого постройте сводную таблицу, которая покажет зависимость количества продаж от группы и цены тура. Визуализируйте полученную сводную таблицу.\n"
   ]
  },
  {
   "cell_type": "code",
   "execution_count": 56,
   "id": "9fb16e55",
   "metadata": {},
   "outputs": [
    {
     "name": "stdout",
     "output_type": "stream",
     "text": [
      "Сводная таблица (количество покупок):\n",
      "group      A     B\n",
      "price             \n",
      "10000   5182  5201\n",
      "60000   5271  1730\n",
      "100000  1832  5227\n",
      "150000  3478  3438\n",
      "200000  1724  1694\n"
     ]
    }
   ],
   "source": [
    "# Фильтруем только покупки (purchase = 1)\n",
    "purchases = clean_data[clean_data['purchase'] == 1]\n",
    "\n",
    "# Создаем сводную таблицу: количество покупок по группе и цене\n",
    "pivot_table = pd.pivot_table(\n",
    "    purchases,\n",
    "    values='purchase',\n",
    "    index='price',\n",
    "    columns='group',\n",
    "    aggfunc='count',\n",
    "    fill_value=0\n",
    ")\n",
    "\n",
    "print(\"Сводная таблица (количество покупок):\")\n",
    "print(pivot_table)"
   ]
  },
  {
   "cell_type": "code",
   "execution_count": 57,
   "id": "63c4f649",
   "metadata": {},
   "outputs": [
    {
     "data": {
      "image/png": "[encoded data removed]",
      "text/plain": [
       "<Figure size 1000x600 with 1 Axes>"
      ]
     },
     "metadata": {},
     "output_type": "display_data"
    }
   ],
   "source": [
    "# Визуализация (столбчатая диаграмма)\n",
    "\n",
    "# Переименуем столбцы для удобства\n",
    "pivot_table.columns = ['Группа A', 'Группа B']\n",
    "\n",
    "# Визуализация\n",
    "plt.figure(figsize=(10, 6))\n",
    "sns.barplot(\n",
    "    x=pivot_table.index,\n",
    "    y=pivot_table['Группа A'],\n",
    "    color='blue',\n",
    "    alpha=0.6,\n",
    "    label='Группа A'\n",
    ")\n",
    "sns.barplot(\n",
    "    x=pivot_table.index,\n",
    "    y=pivot_table['Группа B'],\n",
    "    color='orange',\n",
    "    alpha=0.6,\n",
    "    label='Группа B'\n",
    ")\n",
    "plt.title('Распределение покупок по группам A/B в зависимости от цены тура')\n",
    "plt.xlabel('Цена тура (руб)')\n",
    "plt.ylabel('Количество покупок')\n",
    "plt.legend()\n",
    "plt.show()"
   ]
  },
  {
   "cell_type": "markdown",
   "id": "b91627e5",
   "metadata": {},
   "source": [
    "- Сделайте выводы по построенной таблице. По каким турам покупательская способность участников группы А выше, чем покупательская способность участников группы B, и наоборот?\n",
    "\n",
    "1. Туры, где группа A покупает чаще, чем группа B:\n",
    "- Турция (60 000 руб.)\n",
    "\n",
    "Группа A: 5 271 покупок\n",
    "\n",
    "Группа B: 1 730 покупок\n",
    "\n",
    "Разница: +3 541 в пользу A\n",
    "\n",
    "- Вывод: Вариант страницы A значительно лучше стимулирует покупки туров в Турцию.\n",
    "\n",
    "2. Туры, где группа B покупает чаще, чем группа A:\n",
    "\n",
    "- Таиланд (100 000 руб.)\n",
    "\n",
    "Группа A: 1 832 покупки\n",
    "\n",
    "Группа B: 5 227 покупок\n",
    "\n",
    "Разница: +3 395 в пользу B\n",
    "\n",
    "- Вывод: Вариант B явно эффективнее для продаж туров в Таиланд.\n",
    "\n",
    "3. Туры с примерно равными продажами:\n",
    "- Санкт-Петербург (10 000 руб.)\n",
    "\n",
    "Группа A: 5 182\n",
    "\n",
    "Группа B: 5 201\n",
    "\n",
    "- Разница минимальна → оба варианта работают одинаково.\n",
    "\n",
    "- Камчатка (150 000 руб.)\n",
    "\n",
    "Группа A: 3 478\n",
    "\n",
    "Группа B: 3 438\n",
    "\n",
    "- Разница незначительна → оба варианта сопоставимы.\n",
    "\n",
    "- Мальдивы (200 000 руб.)\n",
    "\n",
    "Группа A: 1 724\n",
    "\n",
    "Группа B: 1 694\n",
    "\n",
    "- Разница небольшая → нет явного лидера.\n",
    "\n",
    "- Итоговые выводы\n",
    "\n",
    "- Тур\tЦена\tГруппа A\tГруппа B\tЛучший вариант\n",
    "- Санкт-Петербург\t10 000 ₽\t5 182\t5 201\t≈ Одинаково\n",
    "- Турция\t60 000 ₽\t5 271\t1 730\tA (в 3× лучше!)\n",
    "- Таиланд\t100 000 ₽\t1 832\t5 227\tB (в 2.8× лучше!)\n",
    "- Камчатка\t150 000 ₽\t3 478\t3 438\t≈ Одинаково\n",
    "- Мальдивы\t200 000 ₽\t1 724\t1 694\t≈ Одинаково\n",
    "\n",
    "Ключевые наблюдения:\n",
    "\n",
    "Группа A доминирует в продажах туров в Турцию (60 000 руб.) → возможно, дизайн страницы A лучше подходит для среднего ценового сегмента.\n",
    "\n",
    "Группа B сильно выигрывает по Таиланду (100 000 руб.) → вариант B лучше мотивирует покупать туры за ~100 тыс. руб.\n",
    "\n",
    "На очень дешевые (СПб) и очень дорогие туры (Камчатка, Мальдивы) оба варианта работают одинаково.\n",
    "\n",
    "- Рекомендации для бизнеса\n",
    "\n",
    "Если компания делает акцент на Турцию (60 000 руб.) → выбрать вариант A.\n",
    "\n",
    "Если ключевой продукт — Таиланд (100 000 руб.) → выбрать вариант B.\n",
    "\n",
    "Если нужен баланс, можно:\n",
    "\n",
    "Оставить A, если Турция важнее.\n",
    "\n",
    "Оставить B, если Таиланд важнее.\n",
    "\n",
    "Протестировать гибридный вариант, взяв лучшие элементы из A и B."
   ]
  },
  {
   "cell_type": "markdown",
   "id": "75b0987d",
   "metadata": {},
   "source": [
    "# 3. Проанализируйте данные на предмет стабилизации метрик:\n"
   ]
  },
  {
   "cell_type": "markdown",
   "id": "6c1c7d2b",
   "metadata": {},
   "source": [
    "## Сгруппируйте данные по дате и группе тестирования и постройте таблицу с ежедневными данными результатов проведения A/B-тестирования. В каждой группе вычислите ежедневные показатели:\n",
    "- количество посещений страницы;\n",
    "- количество покупок;\n",
    "- сумму покупок."
   ]
  },
  {
   "cell_type": "code",
   "execution_count": 58,
   "id": "f667c7b7",
   "metadata": {},
   "outputs": [
    {
     "name": "stdout",
     "output_type": "stream",
     "text": [
      "Ежедневные результаты для группы A:\n",
      "        date group  visits  purchases   revenue\n",
      "0 2021-01-02     A    2854        359  29410000\n",
      "2 2021-01-03     A    6596        748  62000000\n",
      "4 2021-01-04     A    6566        799  64250000\n",
      "6 2021-01-05     A    6433        790  64550000\n",
      "8 2021-01-06     A    6606        764  63410000\n",
      "\n",
      "Ежедневные результаты для группы B:\n",
      "        date group  visits  purchases   revenue\n",
      "1 2021-01-02     B    2861        345  29660000\n",
      "3 2021-01-03     B    6619        754  65960000\n",
      "5 2021-01-04     B    6536        764  68030000\n",
      "7 2021-01-05     B    6511        749  63550000\n",
      "9 2021-01-06     B    6751        838  75020000\n"
     ]
    }
   ],
   "source": [
    "# Группировка по дате и группе\n",
    "daily_results = clean_data.groupby(['date', 'group']).agg(\n",
    "    visits=('user_id', 'count'),          # Число посещений\n",
    "    purchases=('purchase', 'sum'),        # Число покупок\n",
    "    revenue=('price', 'sum')              # Сумма покупок\n",
    ").reset_index()\n",
    "daily_results.head()\n",
    "\n",
    "#daily_data = ab_data.groupby(['timestamp','group']).agg({\n",
    "#    'user_id':'count',\n",
    "#    'converted':'sum',\n",
    "#    'price', 'sum'\n",
    "#}).reset_index().rename(columns={'user_id': 'users_count'})\n",
    "#daily_data.head()\n",
    "\n",
    "# Разделяем группы A и B для удобства\n",
    "group_a = daily_results[daily_results['group'] == 'A']\n",
    "group_b = daily_results[daily_results['group'] == 'B']\n",
    "\n",
    "print(\"Ежедневные результаты для группы A:\")\n",
    "print(group_a.head())\n",
    "\n",
    "print(\"\\nЕжедневные результаты для группы B:\")\n",
    "print(group_b.head())"
   ]
  },
  {
   "cell_type": "markdown",
   "id": "a82cfc8d",
   "metadata": {},
   "source": [
    "## Добавьте в таблицу информацию о ежедневной конверсии (ежедневное количество покупок / ежедневное количество посещений) в группе и о ежедневном среднем чеке (ежедневная сумма покупок / ежедневное количество покупок)."
   ]
  },
  {
   "cell_type": "code",
   "execution_count": 59,
   "id": "304ad970",
   "metadata": {},
   "outputs": [
    {
     "name": "stdout",
     "output_type": "stream",
     "text": [
      "Ежедневные результаты для группы A:\n",
      "        date group  visits  purchases   revenue  conversion  avg_receipt\n",
      "0 2021-01-02     A    2854        359  29410000      0.1258      81922.0\n",
      "2 2021-01-03     A    6596        748  62000000      0.1134      82888.0\n",
      "4 2021-01-04     A    6566        799  64250000      0.1217      80413.0\n",
      "6 2021-01-05     A    6433        790  64550000      0.1228      81709.0\n",
      "8 2021-01-06     A    6606        764  63410000      0.1157      82997.0\n",
      "\n",
      "Ежедневные результаты для группы B:\n",
      "        date group  visits  purchases   revenue  conversion  avg_receipt\n",
      "1 2021-01-02     B    2861        345  29660000      0.1206      85971.0\n",
      "3 2021-01-03     B    6619        754  65960000      0.1139      87480.0\n",
      "5 2021-01-04     B    6536        764  68030000      0.1169      89045.0\n",
      "7 2021-01-05     B    6511        749  63550000      0.1150      84846.0\n",
      "9 2021-01-06     B    6751        838  75020000      0.1241      89523.0\n"
     ]
    },
    {
     "data": {
      "application/vnd.microsoft.datawrangler.viewer.v0+json": {
       "columns": [
        {
         "name": "index",
         "rawType": "int64",
         "type": "integer"
        },
        {
         "name": "date",
         "rawType": "datetime64[ns]",
         "type": "datetime"
        },
        {
         "name": "group",
         "rawType": "object",
         "type": "string"
        },
        {
         "name": "visits",
         "rawType": "int64",
         "type": "integer"
        },
        {
         "name": "purchases",
         "rawType": "int64",
         "type": "integer"
        },
        {
         "name": "revenue",
         "rawType": "int64",
         "type": "integer"
        },
        {
         "name": "conversion",
         "rawType": "float64",
         "type": "float"
        },
        {
         "name": "avg_receipt",
         "rawType": "float64",
         "type": "float"
        }
       ],
       "ref": "2926b5f3-7b00-4b89-a2c8-1f657c361855",
       "rows": [
        [
         "0",
         "2021-01-02 00:00:00",
         "A",
         "2854",
         "359",
         "29410000",
         "0.1258",
         "81922.0"
        ],
        [
         "1",
         "2021-01-02 00:00:00",
         "B",
         "2861",
         "345",
         "29660000",
         "0.1206",
         "85971.0"
        ],
        [
         "2",
         "2021-01-03 00:00:00",
         "A",
         "6596",
         "748",
         "62000000",
         "0.1134",
         "82888.0"
        ],
        [
         "3",
         "2021-01-03 00:00:00",
         "B",
         "6619",
         "754",
         "65960000",
         "0.1139",
         "87480.0"
        ],
        [
         "4",
         "2021-01-04 00:00:00",
         "A",
         "6566",
         "799",
         "64250000",
         "0.1217",
         "80413.0"
        ]
       ],
       "shape": {
        "columns": 7,
        "rows": 5
       }
      },
      "text/html": [
       "<div>\n",
       "<style scoped>\n",
       "    .dataframe tbody tr th:only-of-type {\n",
       "        vertical-align: middle;\n",
       "    }\n",
       "\n",
       "    .dataframe tbody tr th {\n",
       "        vertical-align: top;\n",
       "    }\n",
       "\n",
       "    .dataframe thead th {\n",
       "        text-align: right;\n",
       "    }\n",
       "</style>\n",
       "<table border=\"1\" class=\"dataframe\">\n",
       "  <thead>\n",
       "    <tr style=\"text-align: right;\">\n",
       "      <th></th>\n",
       "      <th>date</th>\n",
       "      <th>group</th>\n",
       "      <th>visits</th>\n",
       "      <th>purchases</th>\n",
       "      <th>revenue</th>\n",
       "      <th>conversion</th>\n",
       "      <th>avg_receipt</th>\n",
       "    </tr>\n",
       "  </thead>\n",
       "  <tbody>\n",
       "    <tr>\n",
       "      <th>0</th>\n",
       "      <td>2021-01-02</td>\n",
       "      <td>A</td>\n",
       "      <td>2854</td>\n",
       "      <td>359</td>\n",
       "      <td>29410000</td>\n",
       "      <td>0.1258</td>\n",
       "      <td>81922.0</td>\n",
       "    </tr>\n",
       "    <tr>\n",
       "      <th>1</th>\n",
       "      <td>2021-01-02</td>\n",
       "      <td>B</td>\n",
       "      <td>2861</td>\n",
       "      <td>345</td>\n",
       "      <td>29660000</td>\n",
       "      <td>0.1206</td>\n",
       "      <td>85971.0</td>\n",
       "    </tr>\n",
       "    <tr>\n",
       "      <th>2</th>\n",
       "      <td>2021-01-03</td>\n",
       "      <td>A</td>\n",
       "      <td>6596</td>\n",
       "      <td>748</td>\n",
       "      <td>62000000</td>\n",
       "      <td>0.1134</td>\n",
       "      <td>82888.0</td>\n",
       "    </tr>\n",
       "    <tr>\n",
       "      <th>3</th>\n",
       "      <td>2021-01-03</td>\n",
       "      <td>B</td>\n",
       "      <td>6619</td>\n",
       "      <td>754</td>\n",
       "      <td>65960000</td>\n",
       "      <td>0.1139</td>\n",
       "      <td>87480.0</td>\n",
       "    </tr>\n",
       "    <tr>\n",
       "      <th>4</th>\n",
       "      <td>2021-01-04</td>\n",
       "      <td>A</td>\n",
       "      <td>6566</td>\n",
       "      <td>799</td>\n",
       "      <td>64250000</td>\n",
       "      <td>0.1217</td>\n",
       "      <td>80413.0</td>\n",
       "    </tr>\n",
       "  </tbody>\n",
       "</table>\n",
       "</div>"
      ],
      "text/plain": [
       "        date group  visits  purchases   revenue  conversion  avg_receipt\n",
       "0 2021-01-02     A    2854        359  29410000      0.1258      81922.0\n",
       "1 2021-01-02     B    2861        345  29660000      0.1206      85971.0\n",
       "2 2021-01-03     A    6596        748  62000000      0.1134      82888.0\n",
       "3 2021-01-03     B    6619        754  65960000      0.1139      87480.0\n",
       "4 2021-01-04     A    6566        799  64250000      0.1217      80413.0"
      ]
     },
     "execution_count": 59,
     "metadata": {},
     "output_type": "execute_result"
    }
   ],
   "source": [
    "# Расчет конверсии и среднего чека\n",
    "daily_results['conversion'] = (daily_results['purchases'] / daily_results['visits']).round(4)  # В долях (12% = 0.12)\n",
    "daily_results['avg_receipt'] = (daily_results['revenue'] / daily_results['purchases']).round(0)  # Округление до рубля\n",
    "\n",
    "# Разделение на группы A и B\n",
    "group_a = daily_results[daily_results['group'] == 'A']\n",
    "group_b = daily_results[daily_results['group'] == 'B']\n",
    "\n",
    "print(\"Ежедневные результаты для группы A:\")\n",
    "print(group_a.head())\n",
    "\n",
    "print(\"\\nЕжедневные результаты для группы B:\")\n",
    "print(group_b.head())\n",
    "# Расчет конверсии\n",
    "#group_a['conversion'] = (group_a['purchases'] / group_a['visits']) * 100\n",
    "daily_results.head()"
   ]
  },
  {
   "cell_type": "markdown",
   "id": "b02bbba9",
   "metadata": {},
   "source": [
    "## Рассчитаем кумулятивные показатели:\n",
    "- кумулятивное количество посещений страницы;\n",
    "- кумулятивное количество покупок;\n",
    "- кумулятивную сумму покупок."
   ]
  },
  {
   "cell_type": "code",
   "execution_count": 60,
   "id": "5d0f3a24",
   "metadata": {},
   "outputs": [
    {
     "name": "stdout",
     "output_type": "stream",
     "text": [
      "        date group  visits  purchases   revenue  conversion  avg_receipt  \\\n",
      "0 2021-01-02     A    2854        359  29410000      0.1258      81922.0   \n",
      "2 2021-01-03     A    6596        748  62000000      0.1134      82888.0   \n",
      "4 2021-01-04     A    6566        799  64250000      0.1217      80413.0   \n",
      "6 2021-01-05     A    6433        790  64550000      0.1228      81709.0   \n",
      "8 2021-01-06     A    6606        764  63410000      0.1157      82997.0   \n",
      "\n",
      "   cum_visits  cum_purchases  cum_revenue  \n",
      "0      2854.0          359.0   29410000.0  \n",
      "2      9450.0         1107.0   91410000.0  \n",
      "4     16016.0         1906.0  155660000.0  \n",
      "6     22449.0         2696.0  220210000.0  \n",
      "8     29055.0         3460.0  283620000.0  \n",
      "        date group  visits  purchases   revenue  conversion  avg_receipt  \\\n",
      "1 2021-01-02     B    2861        345  29660000      0.1206      85971.0   \n",
      "3 2021-01-03     B    6619        754  65960000      0.1139      87480.0   \n",
      "5 2021-01-04     B    6536        764  68030000      0.1169      89045.0   \n",
      "7 2021-01-05     B    6511        749  63550000      0.1150      84846.0   \n",
      "9 2021-01-06     B    6751        838  75020000      0.1241      89523.0   \n",
      "\n",
      "   cum_visits  cum_purchases  cum_revenue  \n",
      "1      2861.0          345.0   29660000.0  \n",
      "3      9480.0         1099.0   95620000.0  \n",
      "5     16016.0         1863.0  163650000.0  \n",
      "7     22527.0         2612.0  227200000.0  \n",
      "9     29278.0         3450.0  302220000.0  \n"
     ]
    }
   ],
   "source": [
    "# вычисляем кумулятивную сумму количества посетителей\n",
    "#daily_results['cum_visits'] = daily_results.groupby(['group'])['visits'].cumsum()\n",
    "# вычисляем кумулятивную сумму количества совершённых целевых действий\n",
    "#daily_results['cum_purchases'] = daily_results.groupby(['group'])['purchases'].cumsum()\n",
    "# вычисляем кумулятивную конверсию\n",
    "#daily_results['cum_revenue'] = daily_results.groupby(['group'])['revenue'].cumsum()\n",
    "#display(daily_results.head())\n",
    "\n",
    "# Сортировка по дате для корректного расчета\n",
    "daily_results = daily_results.sort_values(['group', 'date'])\n",
    "\n",
    "# Расчет кумулятивных метрик\n",
    "for group in ['A', 'B']:\n",
    "    mask = daily_results['group'] == group\n",
    "    daily_results.loc[mask, 'cum_visits'] = daily_results.loc[mask, 'visits'].cumsum()\n",
    "    daily_results.loc[mask, 'cum_purchases'] = daily_results.loc[mask, 'purchases'].cumsum()\n",
    "    daily_results.loc[mask, 'cum_revenue'] = daily_results.loc[mask, 'revenue'].cumsum()\n",
    "   \n",
    "# Разделение на группы\n",
    "group_a = daily_results[daily_results['group'] == 'A']\n",
    "group_b = daily_results[daily_results['group'] == 'B']\n",
    "\n",
    "print(group_a.head())\n",
    "\n",
    "print(group_b.head())"
   ]
  },
  {
   "cell_type": "markdown",
   "id": "19eecdc1",
   "metadata": {},
   "source": [
    "## На основе полученных кумулятивных показателей вычислите кумулятивную конверсию и кумулятивный средний чек."
   ]
  },
  {
   "cell_type": "code",
   "execution_count": 61,
   "id": "6dcdb07f",
   "metadata": {},
   "outputs": [
    {
     "name": "stdout",
     "output_type": "stream",
     "text": [
      "        date group  visits  purchases   revenue  conversion  avg_receipt  \\\n",
      "0 2021-01-02     A    2854        359  29410000      0.1258      81922.0   \n",
      "2 2021-01-03     A    6596        748  62000000      0.1134      82888.0   \n",
      "4 2021-01-04     A    6566        799  64250000      0.1217      80413.0   \n",
      "6 2021-01-05     A    6433        790  64550000      0.1228      81709.0   \n",
      "8 2021-01-06     A    6606        764  63410000      0.1157      82997.0   \n",
      "\n",
      "   cum_visits  cum_purchases  cum_revenue  cum_conversion  cum_avg_receipt  \n",
      "0      2854.0          359.0   29410000.0        0.125788     81922.005571  \n",
      "2      9450.0         1107.0   91410000.0        0.117143     82574.525745  \n",
      "4     16016.0         1906.0  155660000.0        0.119006     81668.415530  \n",
      "6     22449.0         2696.0  220210000.0        0.120094     81680.267062  \n",
      "8     29055.0         3460.0  283620000.0        0.119084     81971.098266  \n",
      "        date group  visits  purchases   revenue  conversion  avg_receipt  \\\n",
      "1 2021-01-02     B    2861        345  29660000      0.1206      85971.0   \n",
      "3 2021-01-03     B    6619        754  65960000      0.1139      87480.0   \n",
      "5 2021-01-04     B    6536        764  68030000      0.1169      89045.0   \n",
      "7 2021-01-05     B    6511        749  63550000      0.1150      84846.0   \n",
      "9 2021-01-06     B    6751        838  75020000      0.1241      89523.0   \n",
      "\n",
      "   cum_visits  cum_purchases  cum_revenue  cum_conversion  cum_avg_receipt  \n",
      "1      2861.0          345.0   29660000.0        0.120587     85971.014493  \n",
      "3      9480.0         1099.0   95620000.0        0.115928     87006.369427  \n",
      "5     16016.0         1863.0  163650000.0        0.116321     87842.190016  \n",
      "7     22527.0         2612.0  227200000.0        0.115950     86983.154671  \n",
      "9     29278.0         3450.0  302220000.0        0.117836     87600.000000  \n"
     ]
    }
   ],
   "source": [
    "# Сортировка по дате для корректного расчета\n",
    "daily_results = daily_results.sort_values(['group', 'date'])\n",
    "\n",
    "# Расчет кумулятивных метрик\n",
    "for group in ['A', 'B']:\n",
    "    mask = daily_results['group'] == group\n",
    "    daily_results.loc[mask, 'cum_conversion'] = daily_results.loc[mask, 'cum_purchases'] / daily_results.loc[mask, 'cum_visits']\n",
    "    daily_results.loc[mask, 'cum_avg_receipt'] = daily_results.loc[mask, 'cum_revenue'] / daily_results.loc[mask, 'cum_purchases']\n",
    "\n",
    "# Разделение на группы\n",
    "group_a = daily_results[daily_results['group'] == 'A']\n",
    "group_b = daily_results[daily_results['group'] == 'B']\n",
    "\n",
    "print(group_a.head())\n",
    "\n",
    "print(group_b.head())"
   ]
  },
  {
   "cell_type": "markdown",
   "id": "c89d0127",
   "metadata": {},
   "source": [
    "## Постройте кумулятивные графики конверсии и среднего чека в каждой группе по дням"
   ]
  },
  {
   "cell_type": "code",
   "execution_count": 62,
   "id": "46f49908",
   "metadata": {},
   "outputs": [
    {
     "data": {
      "image/png": "[encoded data removed]",
      "text/plain": [
       "<Figure size 1400x600 with 2 Axes>"
      ]
     },
     "metadata": {},
     "output_type": "display_data"
    }
   ],
   "source": [
    "import matplotlib.pyplot as plt\n",
    "import seaborn as sns\n",
    "\n",
    "# Настройка стиля графиков\n",
    "sns.set_style(\"whitegrid\")\n",
    "plt.figure(figsize=(14, 6))\n",
    "\n",
    "# График кумулятивной конверсии\n",
    "plt.subplot(1, 2, 1)\n",
    "plt.plot(group_a['date'], group_a['cum_conversion']*100, label='Группа A', color='#1f77b4', linewidth=2, marker='o')\n",
    "plt.plot(group_b['date'], group_b['cum_conversion']*100, label='Группа B', color='#ff7f0e', linewidth=2, marker='o')\n",
    "plt.title('Кумулятивная конверсия по дням', pad=20, fontsize=14)\n",
    "plt.xlabel('Дата', fontsize=12)\n",
    "plt.ylabel('Конверсия, %', fontsize=12)\n",
    "plt.xticks(rotation=45)\n",
    "plt.legend(fontsize=12)\n",
    "plt.ylim(10, 15)  # Фиксируем масштаб для наглядности\n",
    "\n",
    "# График кумулятивного среднего чека\n",
    "plt.subplot(1, 2, 2)\n",
    "plt.plot(group_a['date'], group_a['cum_avg_receipt'], label='Группа A', color='#1f77b4', linewidth=2, marker='o')\n",
    "plt.plot(group_b['date'], group_b['cum_avg_receipt'], label='Группа B', color='#ff7f0e', linewidth=2, marker='o')\n",
    "plt.title('Кумулятивный средний чек по дням', pad=20, fontsize=14)\n",
    "plt.xlabel('Дата', fontsize=12)\n",
    "plt.ylabel('Средний чек, руб.', fontsize=12)\n",
    "plt.xticks(rotation=45)\n",
    "plt.legend(fontsize=12)\n",
    "plt.ylim(70000, 100000)  # Фиксируем масштаб\n",
    "\n",
    "plt.tight_layout()\n",
    "plt.show()"
   ]
  },
  {
   "cell_type": "markdown",
   "id": "41928ab4",
   "metadata": {},
   "source": [
    "## Сделайте выводы. Можно ли назвать A/B-тест завершённым? Стабилизировались ли значения метрик во времени? Как соотносятся кумулятивные показатели в каждой группе?"
   ]
  },
  {
   "cell_type": "markdown",
   "id": "18999242",
   "metadata": {},
   "source": [
    "Выводы по представленным графикам  \n",
    "\n",
    "1. Стабилизировались ли значения метрик во времени  \n",
    "   - На графике кумулятивной конверсии обе группы (Группа А и Группа В) демонстрируют стабилизацию ближе к концу анализа (последние даты). Значения перестали резко изменяться и с минимальными колебаниями держатся на одном уровне.\n",
    "   - На графике кумулятивного среднего чека также наблюдается относительно стабильное поведение показателей со временем. Однако в группе B заметен незначительный рост, что может указывать на некоторые индивидуальные выбросы или специфическое поведение.\n",
    "\n",
    "2. Соотношения кумулятивных показателей в каждой группе  \n",
    "   - По кумулятивной конверсии видно, что обе группы демонстрируют схожую динамику (разницы минимальны). Группа А немного лидирует по этому показателю.\n",
    "   - Кумулятивный средний чек в группе B значительно выше, чем в группе A, причем этот разрыв фиксируется на протяжении почти всего эксперимента.\n",
    "\n",
    "3. Можно ли назвать A/B-тест завершённым  \n",
    "   - Метрики стабилизировались, что говорит о возможном завершении теста.\n",
    "   - Для окончательных выводов необходимо проверить статистическую значимость различий (например, с помощью t-теста или других методов), доли выбросов, а также соблюдение условий теста (например, равномерность распределения участников в группах, соблюдение времени длительности теста и т. д.).\n",
    "\n",
    "Заключение  \n",
    "С точки зрения визуального анализа метрики стабилизировались, поэтому тест можно считать завершённым. Кумулятивная конверсия похожа в обеих группах, но кумулятивный средний чек в группе B выше, что может быть значимым с точки зрения бизнеса. Рекомендуется подтвердить эти выводы с помощью статистического анализа."
   ]
  },
  {
   "cell_type": "markdown",
   "id": "9bd98c1b",
   "metadata": {},
   "source": [
    "# 4. Проведем статистический анализ результатов A/B-тестирования:\n"
   ]
  },
  {
   "cell_type": "markdown",
   "id": "24ebc254",
   "metadata": {},
   "source": [
    "- Сформулируем статистические гипотезы, соответствующие поставленным бизнес-вопросам, и выберите статистический тест для их проверки.\n",
    "\n",
    "Для сравнения конверсии между группами\n",
    "\n",
    "Бизнес-вопрос:\n",
    "\n",
    "Есть ли статистически значимое различие в конверсии между вариантами A и B?\n",
    "\n",
    "- H0: Конверсия в группах A и B равна (pA=pB ).\n",
    "- H1: Конверсия в группах A и B  различается (pA≠pB)\n",
    "\n",
    "Выбор теста:\n",
    "- Z-тест для пропорций (для больших выборок) или Хи-квадрат (χ²).\n",
    "- Условия:\n",
    "        *Количество наблюдений > 30.*\n",
    "        *n.p>5 и n⋅(1−p)>5 для каждой группы.*\n",
    "\n"
   ]
  },
  {
   "cell_type": "markdown",
   "id": "22be1877",
   "metadata": {},
   "source": [
    "## С помощью аппарата статистических тестов определите:\n",
    "\n",
    "- Есть ли статистическая разница между конверсиями в группах А и B?\n",
    "- Есть ли статистическая разница между ежедневными средними чеками в группах А и B?\n",
    "\n",
    "Зададим уровень значимости = 0.05  и будем сравнивать полученное p-value с ним.\n",
    "\n",
    "Примечание. Давайте вспомним, что:\n",
    "- Если полученное значение p-value ниже уровня значимости (), это означает, что результаты статистически значимы и согласуются с альтернативной гипотезой.\n",
    "- Если полученное значение p-value выше уровня значимости (), результаты считаются статистически незначимыми и нельзя отвергнуть нулевую гипотезу."
   ]
  },
  {
   "cell_type": "markdown",
   "id": "ef3d30e9",
   "metadata": {},
   "source": [
    "Cгруппируем таблицу clean_data по признаку группы и рассчитаем количество purchases (сумма по столбцу purchases) и общее количество наблюдений для каждой группы:"
   ]
  },
  {
   "cell_type": "code",
   "execution_count": 26,
   "id": "988fbf2f",
   "metadata": {},
   "outputs": [
    {
     "data": {
      "application/vnd.microsoft.datawrangler.viewer.v0+json": {
       "columns": [
        {
         "name": "index",
         "rawType": "int64",
         "type": "integer"
        },
        {
         "name": "date",
         "rawType": "datetime64[ns]",
         "type": "datetime"
        },
        {
         "name": "group",
         "rawType": "object",
         "type": "string"
        },
        {
         "name": "visits",
         "rawType": "int64",
         "type": "integer"
        },
        {
         "name": "purchases",
         "rawType": "int64",
         "type": "integer"
        },
        {
         "name": "revenue",
         "rawType": "int64",
         "type": "integer"
        },
        {
         "name": "conversion",
         "rawType": "float64",
         "type": "float"
        },
        {
         "name": "avg_receipt",
         "rawType": "float64",
         "type": "float"
        },
        {
         "name": "cum_visits",
         "rawType": "float64",
         "type": "float"
        },
        {
         "name": "cum_purchases",
         "rawType": "float64",
         "type": "float"
        },
        {
         "name": "cum_revenue",
         "rawType": "float64",
         "type": "float"
        },
        {
         "name": "cum_conversion",
         "rawType": "float64",
         "type": "float"
        },
        {
         "name": "cum_avg_receipt",
         "rawType": "float64",
         "type": "float"
        }
       ],
       "ref": "13b6d61e-02f9-4c0b-889b-84005a8f1978",
       "rows": [
        [
         "0",
         "2021-01-02 00:00:00",
         "A",
         "2854",
         "359",
         "29410000",
         "0.1258",
         "81922.0",
         "2854.0",
         "359.0",
         "29410000.0",
         "0.1257883672039243",
         "81922.00557103065"
        ],
        [
         "2",
         "2021-01-03 00:00:00",
         "A",
         "6596",
         "748",
         "62000000",
         "0.1134",
         "82888.0",
         "9450.0",
         "1107.0",
         "91410000.0",
         "0.11714285714285715",
         "82574.52574525746"
        ],
        [
         "4",
         "2021-01-04 00:00:00",
         "A",
         "6566",
         "799",
         "64250000",
         "0.1217",
         "80413.0",
         "16016.0",
         "1906.0",
         "155660000.0",
         "0.119005994005994",
         "81668.41552990556"
        ],
        [
         "6",
         "2021-01-05 00:00:00",
         "A",
         "6433",
         "790",
         "64550000",
         "0.1228",
         "81709.0",
         "22449.0",
         "2696.0",
         "220210000.0",
         "0.1200944362777852",
         "81680.26706231454"
        ],
        [
         "8",
         "2021-01-06 00:00:00",
         "A",
         "6606",
         "764",
         "63410000",
         "0.1157",
         "82997.0",
         "29055.0",
         "3460.0",
         "283620000.0",
         "0.1190844949234211",
         "81971.09826589595"
        ]
       ],
       "shape": {
        "columns": 12,
        "rows": 5
       }
      },
      "text/html": [
       "<div>\n",
       "<style scoped>\n",
       "    .dataframe tbody tr th:only-of-type {\n",
       "        vertical-align: middle;\n",
       "    }\n",
       "\n",
       "    .dataframe tbody tr th {\n",
       "        vertical-align: top;\n",
       "    }\n",
       "\n",
       "    .dataframe thead th {\n",
       "        text-align: right;\n",
       "    }\n",
       "</style>\n",
       "<table border=\"1\" class=\"dataframe\">\n",
       "  <thead>\n",
       "    <tr style=\"text-align: right;\">\n",
       "      <th></th>\n",
       "      <th>date</th>\n",
       "      <th>group</th>\n",
       "      <th>visits</th>\n",
       "      <th>purchases</th>\n",
       "      <th>revenue</th>\n",
       "      <th>conversion</th>\n",
       "      <th>avg_receipt</th>\n",
       "      <th>cum_visits</th>\n",
       "      <th>cum_purchases</th>\n",
       "      <th>cum_revenue</th>\n",
       "      <th>cum_conversion</th>\n",
       "      <th>cum_avg_receipt</th>\n",
       "    </tr>\n",
       "  </thead>\n",
       "  <tbody>\n",
       "    <tr>\n",
       "      <th>0</th>\n",
       "      <td>2021-01-02</td>\n",
       "      <td>A</td>\n",
       "      <td>2854</td>\n",
       "      <td>359</td>\n",
       "      <td>29410000</td>\n",
       "      <td>0.1258</td>\n",
       "      <td>81922.0</td>\n",
       "      <td>2854.0</td>\n",
       "      <td>359.0</td>\n",
       "      <td>29410000.0</td>\n",
       "      <td>0.125788</td>\n",
       "      <td>81922.005571</td>\n",
       "    </tr>\n",
       "    <tr>\n",
       "      <th>2</th>\n",
       "      <td>2021-01-03</td>\n",
       "      <td>A</td>\n",
       "      <td>6596</td>\n",
       "      <td>748</td>\n",
       "      <td>62000000</td>\n",
       "      <td>0.1134</td>\n",
       "      <td>82888.0</td>\n",
       "      <td>9450.0</td>\n",
       "      <td>1107.0</td>\n",
       "      <td>91410000.0</td>\n",
       "      <td>0.117143</td>\n",
       "      <td>82574.525745</td>\n",
       "    </tr>\n",
       "    <tr>\n",
       "      <th>4</th>\n",
       "      <td>2021-01-04</td>\n",
       "      <td>A</td>\n",
       "      <td>6566</td>\n",
       "      <td>799</td>\n",
       "      <td>64250000</td>\n",
       "      <td>0.1217</td>\n",
       "      <td>80413.0</td>\n",
       "      <td>16016.0</td>\n",
       "      <td>1906.0</td>\n",
       "      <td>155660000.0</td>\n",
       "      <td>0.119006</td>\n",
       "      <td>81668.415530</td>\n",
       "    </tr>\n",
       "    <tr>\n",
       "      <th>6</th>\n",
       "      <td>2021-01-05</td>\n",
       "      <td>A</td>\n",
       "      <td>6433</td>\n",
       "      <td>790</td>\n",
       "      <td>64550000</td>\n",
       "      <td>0.1228</td>\n",
       "      <td>81709.0</td>\n",
       "      <td>22449.0</td>\n",
       "      <td>2696.0</td>\n",
       "      <td>220210000.0</td>\n",
       "      <td>0.120094</td>\n",
       "      <td>81680.267062</td>\n",
       "    </tr>\n",
       "    <tr>\n",
       "      <th>8</th>\n",
       "      <td>2021-01-06</td>\n",
       "      <td>A</td>\n",
       "      <td>6606</td>\n",
       "      <td>764</td>\n",
       "      <td>63410000</td>\n",
       "      <td>0.1157</td>\n",
       "      <td>82997.0</td>\n",
       "      <td>29055.0</td>\n",
       "      <td>3460.0</td>\n",
       "      <td>283620000.0</td>\n",
       "      <td>0.119084</td>\n",
       "      <td>81971.098266</td>\n",
       "    </tr>\n",
       "  </tbody>\n",
       "</table>\n",
       "</div>"
      ],
      "text/plain": [
       "        date group  visits  purchases   revenue  conversion  avg_receipt  \\\n",
       "0 2021-01-02     A    2854        359  29410000      0.1258      81922.0   \n",
       "2 2021-01-03     A    6596        748  62000000      0.1134      82888.0   \n",
       "4 2021-01-04     A    6566        799  64250000      0.1217      80413.0   \n",
       "6 2021-01-05     A    6433        790  64550000      0.1228      81709.0   \n",
       "8 2021-01-06     A    6606        764  63410000      0.1157      82997.0   \n",
       "\n",
       "   cum_visits  cum_purchases  cum_revenue  cum_conversion  cum_avg_receipt  \n",
       "0      2854.0          359.0   29410000.0        0.125788     81922.005571  \n",
       "2      9450.0         1107.0   91410000.0        0.117143     82574.525745  \n",
       "4     16016.0         1906.0  155660000.0        0.119006     81668.415530  \n",
       "6     22449.0         2696.0  220210000.0        0.120094     81680.267062  \n",
       "8     29055.0         3460.0  283620000.0        0.119084     81971.098266  "
      ]
     },
     "execution_count": 26,
     "metadata": {},
     "output_type": "execute_result"
    }
   ],
   "source": [
    "daily_results.head()"
   ]
  },
  {
   "cell_type": "code",
   "execution_count": 63,
   "id": "59b26b05",
   "metadata": {},
   "outputs": [
    {
     "data": {
      "application/vnd.microsoft.datawrangler.viewer.v0+json": {
       "columns": [
        {
         "name": "group",
         "rawType": "object",
         "type": "string"
        },
        {
         "name": "sum",
         "rawType": "int64",
         "type": "integer"
        },
        {
         "name": "count",
         "rawType": "int64",
         "type": "integer"
        }
       ],
       "ref": "3ecf283f-2297-4daa-9d17-6c37255fbbfe",
       "rows": [
        [
         "A",
         "17487",
         "145307"
        ],
        [
         "B",
         "17290",
         "145381"
        ]
       ],
       "shape": {
        "columns": 2,
        "rows": 2
       }
      },
      "text/html": [
       "<div>\n",
       "<style scoped>\n",
       "    .dataframe tbody tr th:only-of-type {\n",
       "        vertical-align: middle;\n",
       "    }\n",
       "\n",
       "    .dataframe tbody tr th {\n",
       "        vertical-align: top;\n",
       "    }\n",
       "\n",
       "    .dataframe thead th {\n",
       "        text-align: right;\n",
       "    }\n",
       "</style>\n",
       "<table border=\"1\" class=\"dataframe\">\n",
       "  <thead>\n",
       "    <tr style=\"text-align: right;\">\n",
       "      <th></th>\n",
       "      <th>sum</th>\n",
       "      <th>count</th>\n",
       "    </tr>\n",
       "    <tr>\n",
       "      <th>group</th>\n",
       "      <th></th>\n",
       "      <th></th>\n",
       "    </tr>\n",
       "  </thead>\n",
       "  <tbody>\n",
       "    <tr>\n",
       "      <th>A</th>\n",
       "      <td>17487</td>\n",
       "      <td>145307</td>\n",
       "    </tr>\n",
       "    <tr>\n",
       "      <th>B</th>\n",
       "      <td>17290</td>\n",
       "      <td>145381</td>\n",
       "    </tr>\n",
       "  </tbody>\n",
       "</table>\n",
       "</div>"
      ],
      "text/plain": [
       "         sum   count\n",
       "group               \n",
       "A      17487  145307\n",
       "B      17290  145381"
      ]
     },
     "metadata": {},
     "output_type": "display_data"
    }
   ],
   "source": [
    "converted_piv= clean_data.groupby('group')['purchase'].agg(\n",
    "    ['sum', 'count']\n",
    ")\n",
    "display(converted_piv)"
   ]
  },
  {
   "cell_type": "code",
   "execution_count": 64,
   "id": "090e9b67",
   "metadata": {},
   "outputs": [
    {
     "name": "stdout",
     "output_type": "stream",
     "text": [
      "p-value:  0.239\n",
      "У нас нет оснований отвергнуть нулевую гипотезу\n"
     ]
    }
   ],
   "source": [
    "from statsmodels.stats.proportion import proportions_ztest\n",
    "\n",
    "alpha = 0.05 # уровень значимости\n",
    "\n",
    "# вычисляем значение p-value для z-теста для пропорций\n",
    "_, p_value = proportions_ztest(\n",
    "   count=converted_piv['sum'], #число «успехов»\n",
    "   nobs=converted_piv['count'], #общее число наблюдений\n",
    "   alternative='two-sided',\n",
    ")\n",
    "# выводим результат на экран\n",
    "print('p-value: ', round(p_value, 3))\n",
    "# сравниваем полученное p-value с уровнем значимости\n",
    "if (p_value <= alpha):\n",
    "    print(\"Отвергаем нулевую гипотезу в пользу альтернативной\")\n",
    "else:\n",
    "    print(\"У нас нет оснований отвергнуть нулевую гипотезу\")"
   ]
  },
  {
   "cell_type": "markdown",
   "id": "5a2e92c3",
   "metadata": {},
   "source": [
    "Итак, мы получили p-value = 0.239. Это больше, чем заданный уровень значимости 0.05, а значит, мы должны принять нулевую гипотезу о равенстве конверсий.\n",
    "\n",
    "Что это значит для нас и для бизнеса?\n",
    "\n",
    "Так как Z-тест для пропорций показал, что истинные значения конверсий в группах равны (с уровнем значимости 0.05), то для нас это значит, что альтернативная гипотеза не подтверждается статистически.\n",
    "\n",
    "Переводим на язык бизнеса: разницы между вариантами рекомендаций сопутствующих товаров нет — они одинаково эффективны по метрике конверсии."
   ]
  },
  {
   "cell_type": "markdown",
   "id": "ba9f4a9e",
   "metadata": {},
   "source": [
    "- Для сравнения среднего чека\n",
    "\n",
    "Бизнес-вопрос:\n",
    "\n",
    "Различается ли средний чек между группами A и B?\n",
    "\n",
    "Гипотезы:\n",
    "- H0: Конверсия в группах A и B равна (UA=UB ).\n",
    "- H1: Конверсия в группах A и B  различается (UA≠UB)\n",
    "\n",
    "Выбор теста:\n",
    "- t-тест для независимых выборок (если данные нормальны).\n",
    "- U-тест Манна-Уитни (если данные не нормальны или есть выбросы).\n",
    "\n"
   ]
  },
  {
   "cell_type": "markdown",
   "id": "8884fb79",
   "metadata": {},
   "source": [
    "- Проверка нормальности (Python):"
   ]
  },
  {
   "cell_type": "code",
   "execution_count": 65,
   "id": "9e66c2a0",
   "metadata": {},
   "outputs": [
    {
     "name": "stdout",
     "output_type": "stream",
     "text": [
      "Основные метрики:\n",
      "Группа A - Конверсия: 12.03%, Средний чек: 81076.23 руб.\n",
      "Группа B - Конверсия: 11.89%, Средний чек: 88664.55 руб.\n"
     ]
    }
   ],
   "source": [
    "# Фильтруем только покупки (purchase == 1)\n",
    "purchases = clean_data[clean_data['purchase'] == 1].copy()\n",
    "\n",
    "# Разделение на группы A и B\n",
    "group_a = purchases[purchases['group'] == 'A']\n",
    "group_b = purchases[purchases['group'] == 'B']\n",
    "\n",
    "# Расчет конверсии (для всех пользователей)\n",
    "conversion_a = len(group_a) / len(clean_data[clean_data['group'] == 'A'])\n",
    "conversion_b = len(group_b) / len(clean_data[clean_data['group'] == 'B'])\n",
    "\n",
    "# Расчет среднего чека\n",
    "avg_receipt_a = group_a['price'].mean()\n",
    "avg_receipt_b = group_b['price'].mean()\n",
    "\n",
    "print(\"Основные метрики:\")\n",
    "print(f\"Группа A - Конверсия: {conversion_a:.2%}, Средний чек: {avg_receipt_a:.2f} руб.\")\n",
    "print(f\"Группа B - Конверсия: {conversion_b:.2%}, Средний чек: {avg_receipt_b:.2f} руб.\")\n",
    "\n"
   ]
  },
  {
   "cell_type": "code",
   "execution_count": 66,
   "id": "983030c9",
   "metadata": {},
   "outputs": [
    {
     "data": {
      "image/png": "[encoded data removed]",
      "text/plain": [
       "<Figure size 640x480 with 1 Axes>"
      ]
     },
     "metadata": {},
     "output_type": "display_data"
    }
   ],
   "source": [
    "# График среднего чека\n",
    "plt.subplot(1, 2, 2)\n",
    "sns.barplot(x='group', y='price', data=purchases, estimator='mean')\n",
    "plt.title('Средний чек по группам')\n",
    "plt.xlabel('Группа')\n",
    "plt.ylabel('Средний чек (руб)')\n",
    "\n",
    "plt.tight_layout()\n",
    "plt.show()"
   ]
  },
  {
   "cell_type": "code",
   "execution_count": 67,
   "id": "0730a0b5",
   "metadata": {},
   "outputs": [
    {
     "data": {
      "text/plain": [
       "Text(0, 0.5, 'Количество покупок')"
      ]
     },
     "execution_count": 67,
     "metadata": {},
     "output_type": "execute_result"
    },
    {
     "data": {
      "image/png": "[encoded data removed]",
      "text/plain": [
       "<Figure size 1200x600 with 1 Axes>"
      ]
     },
     "metadata": {},
     "output_type": "display_data"
    }
   ],
   "source": [
    "# 1. Визуализация распределения покупок по группам\n",
    "plt.figure(figsize=(12, 6))\n",
    "\n",
    "# График количества покупок\n",
    "plt.subplot(1, 2, 1)\n",
    "sns.countplot(x='group', data=purchases)\n",
    "plt.title('Количество покупок по группам')\n",
    "plt.xlabel('Группа')\n",
    "plt.ylabel('Количество покупок')"
   ]
  },
  {
   "cell_type": "code",
   "execution_count": 68,
   "id": "864b04a8",
   "metadata": {},
   "outputs": [
    {
     "name": "stdout",
     "output_type": "stream",
     "text": [
      "p-value группы А 0.0\n",
      "p-value группы B 0.0\n",
      "Отвергаем нулевую гипотезу в пользу альтернативной. Распределение в группе А отлично от нормального\n",
      "Отвергаем нулевую гипотезу в пользу альтернативной. Распределение в группе B отлично от нормального\n"
     ]
    },
    {
     "name": "stderr",
     "output_type": "stream",
     "text": [
      "c:\\Users\\alexD\\AppData\\Local\\Programs\\Python\\Python311\\Lib\\site-packages\\scipy\\stats\\_morestats.py:1816: UserWarning: p-value may not be accurate for N > 5000.\n",
      "  warnings.warn(\"p-value may not be accurate for N > 5000.\")\n"
     ]
    }
   ],
   "source": [
    "from scipy.stats import shapiro\n",
    "\n",
    "\n",
    "alpha = 0.05 # уровень значимости\n",
    "# вычисляем результат теста Шапиро — Уилка для выборок\n",
    "\n",
    "# Получаем массив цен покупок для каждой группы\n",
    "prices_a = clean_data[(clean_data['group'] == 'A') & (clean_data['purchase'] == 1)]['price']\n",
    "prices_b = clean_data[(clean_data['group'] == 'B') & (clean_data['purchase'] == 1)]['price']\n",
    "\n",
    "shapiro_result_a = shapiro(prices_a)\n",
    "shapiro_result_b = shapiro(prices_b)\n",
    "print('p-value группы А', round(shapiro_result_a.pvalue, 2))\n",
    "print('p-value группы B', round(shapiro_result_b.pvalue, 2))\n",
    "\n",
    "# сравниваем полученное p-value для группы А с уровнем значимости\n",
    "if shapiro_result_a.pvalue <= alpha:\n",
    "    print(\"Отвергаем нулевую гипотезу в пользу альтернативной. Распределение в группе А отлично от нормального\")\n",
    "else:\n",
    "    print(\"Принимаем нулевую гипотезу. Распределение в группе А является нормальным\")\n",
    "\n",
    "# сравниваем полученное p-value для группы B с уровнем значимости\n",
    "if shapiro_result_b.pvalue <= alpha:\n",
    "    print(\"Отвергаем нулевую гипотезу в пользу альтернативной. Распределение в группе B отлично от нормального\")\n",
    "else:\n",
    "    print(\"Принимаем нулевую гипотезу. Распределение в группе B является нормальным\")"
   ]
  },
  {
   "cell_type": "markdown",
   "id": "9b8fd629",
   "metadata": {},
   "source": [
    "Итак, распределение в обеих группах не нормальны, а значит, мы можем воспользоваться U-тест Манна-Уитни"
   ]
  },
  {
   "cell_type": "code",
   "execution_count": 69,
   "id": "9cd6ec67",
   "metadata": {},
   "outputs": [
    {
     "name": "stdout",
     "output_type": "stream",
     "text": [
      "Результаты U-теста Манна-Уитни:\n",
      "Статистика: 139547139.00\n",
      "p-value: 0.0000\n",
      "\n",
      "Отвергаем нулевую гипотезу: средние чеки в группах статистически значимо различаются\n",
      "Группа B имеет больший средний чек (медиана: 100000.00 руб.) чем группа A (медиана: 60000.00 руб.)\n"
     ]
    },
    {
     "data": {
      "image/png": "[encoded data removed]",
      "text/plain": [
       "<Figure size 1000x600 with 1 Axes>"
      ]
     },
     "metadata": {},
     "output_type": "display_data"
    }
   ],
   "source": [
    "from scipy.stats import mannwhitneyu\n",
    "\n",
    "# Данные о ценах покупок для каждой группы\n",
    "prices_a = clean_data[(clean_data['group'] == 'A') & (clean_data['purchase'] == 1)]['price']\n",
    "prices_b = clean_data[(clean_data['group'] == 'B') & (clean_data['purchase'] == 1)]['price']\n",
    "\n",
    "# Проводим U-тест Манна-Уитни\n",
    "stat, p_value = mannwhitneyu(prices_a, prices_b, alternative='two-sided')\n",
    "\n",
    "print(f\"Результаты U-теста Манна-Уитни:\")\n",
    "print(f\"Статистика: {stat:.2f}\")\n",
    "print(f\"p-value: {p_value:.4f}\")\n",
    "\n",
    "# Интерпретация результатов\n",
    "alpha = 0.05\n",
    "if p_value < alpha:\n",
    "    print(\"\\nОтвергаем нулевую гипотезу: средние чеки в группах статистически значимо различаются\")\n",
    "    \n",
    "    # Определяем направление различий\n",
    "    if prices_a.median() > prices_b.median():\n",
    "        print(f\"Группа A имеет больший средний чек (медиана: {prices_a.median():.2f} руб.) \"\n",
    "              f\"чем группа B (медиана: {prices_b.median():.2f} руб.)\")\n",
    "    else:\n",
    "        print(f\"Группа B имеет больший средний чек (медиана: {prices_b.median():.2f} руб.) \"\n",
    "              f\"чем группа A (медиана: {prices_a.median():.2f} руб.)\")\n",
    "else:\n",
    "    print(\"\\nНе отвергаем нулевую гипотезу: статистически значимых различий в средних чеках не обнаружено\")\n",
    "\n",
    "# Дополнительная визуализация\n",
    "import matplotlib.pyplot as plt\n",
    "import seaborn as sns\n",
    "\n",
    "plt.figure(figsize=(10, 6))\n",
    "sns.boxplot(x='group', y='price', \n",
    "            data=clean_data[clean_data['purchase'] == 1])\n",
    "plt.title('Распределение сумм покупок по группам\\n(U-тест Манна-Уитни)')\n",
    "plt.xlabel('Группа')\n",
    "plt.ylabel('Сумма покупки, руб.')\n",
    "plt.show()"
   ]
  },
  {
   "cell_type": "markdown",
   "id": "7e2441a3",
   "metadata": {},
   "source": [
    "## Подкрепите результаты статистических тестов, построив 95 % доверительные интервалы для:"
   ]
  },
  {
   "cell_type": "markdown",
   "id": "b48624ca",
   "metadata": {},
   "source": [
    "- конверсий в каждой из групп;\n",
    "- разницы конверсий в группах;\n",
    "- ежедневного среднего чека в каждой из групп."
   ]
  },
  {
   "cell_type": "markdown",
   "id": "26744c4f",
   "metadata": {},
   "source": [
    "## ДОВЕРИТЕЛЬНЫЙ ИНТЕРВАЛ ДЛЯ ПРОПОРЦИИ\n"
   ]
  },
  {
   "cell_type": "markdown",
   "id": "a61b8554",
   "metadata": {},
   "source": [
    "Для удобства создадим отдельные таблицы для каждой из групп пользователей:"
   ]
  },
  {
   "cell_type": "code",
   "execution_count": 75,
   "id": "8ac9e6fe",
   "metadata": {},
   "outputs": [],
   "source": [
    "from scipy.stats import norm"
   ]
  },
  {
   "cell_type": "code",
   "execution_count": 70,
   "id": "3bbebc73",
   "metadata": {},
   "outputs": [],
   "source": [
    "# фильтруем данные группы А\n",
    "a_data = clean_data[clean_data['group'] == 'A']\n",
    "# фильтруем данные группы B\n",
    "b_data = clean_data[clean_data['group'] == 'B']"
   ]
  },
  {
   "cell_type": "markdown",
   "id": "07b914b5",
   "metadata": {},
   "source": [
    "Ооформим расчёт в виде функции: объявим функцию proportion_conf_interval(). У данной функции будет три аргумента: x_p — выборочная пропорция, n — размер выборки и gamma — уровень надёжности (по умолчанию он равен 0.95). Функция будет возвращать кортеж из вычисленных границ доверительного интервала, умноженных на 100 % и округлённых до второго знака после запятой."
   ]
  },
  {
   "cell_type": "code",
   "execution_count": 73,
   "id": "286186d4",
   "metadata": {},
   "outputs": [],
   "source": [
    "def proportion_conf_interval(x_p, n, gamma=0.95):  \n",
    "    alpha = 1 - gamma # уровень значимости\n",
    "    z_crit = -norm.ppf(alpha/2) # z-критическое\n",
    "    eps = z_crit * (x_p * (1 - x_p) / n) ** 0.5 # погрешность\n",
    "    lower_bound = x_p - eps # левая (нижняя) граница\n",
    "    upper_bound = x_p + eps # правая (верхняя) граница\n",
    "    # возвращаем кортеж из границ интервала\n",
    "    return lower_bound, upper_bound"
   ]
  },
  {
   "cell_type": "markdown",
   "id": "b1de0c7b",
   "metadata": {},
   "source": [
    "Теперь применим нашу функцию к данным группы А и группы B, результат умножим на 100 % и округлим до сотых:"
   ]
  },
  {
   "cell_type": "code",
   "execution_count": 76,
   "id": "1e2923d0",
   "metadata": {},
   "outputs": [
    {
     "name": "stdout",
     "output_type": "stream",
     "text": [
      "Доверительный интервал для конверсии в группе А: (11.87, 12.2)\n",
      "Доверительный интервал для конверсии в группе B: (11.73, 12.06)\n"
     ]
    }
   ],
   "source": [
    "# строим доверительный интервал для конверсии в группе А\n",
    "lower_bound_a, upper_bound_a  = proportion_conf_interval(\n",
    "    x_p=a_data['purchase'].mean(), # выборочная пропорция\n",
    "    n=a_data['user_id'].count() # размер выборки\n",
    ")\n",
    "\n",
    "# строим доверительный интервал для конверсии в группе B\n",
    "lower_bound_b, upper_bound_b  = proportion_conf_interval(\n",
    "    x_p=b_data['purchase'].mean(), # выборочная пропорция\n",
    "    n=b_data['user_id'].count() # размер выборки\n",
    ")\n",
    "\n",
    "# выводим результат\n",
    "print('Доверительный интервал для конверсии в группе А: {}'.format((round(lower_bound_a * 100, 2), round(upper_bound_a * 100, 2))))\n",
    "print('Доверительный интервал для конверсии в группе B: {}'.format((round(lower_bound_b * 100, 2), round(upper_bound_b * 100, 2))))"
   ]
  },
  {
   "cell_type": "markdown",
   "id": "c79eb514",
   "metadata": {},
   "source": [
    "Итак, можно сделать вывод, что с надёжностью в 95 % конверсия группы А лежит в интервале от 11.87 % до 12.2 %, а конверсия группы B лежит в интервале от 11.73 % до 12.06 %."
   ]
  },
  {
   "cell_type": "markdown",
   "id": "f64ffabf",
   "metadata": {},
   "source": [
    "## Проинтерпретируйте построенные доверительные интервалы для конверсий и ежедневного среднего чека в группах. Есть ли перекрытие между доверительными интервалами для групп? Если есть, то о чём это говорит?"
   ]
  },
  {
   "cell_type": "markdown",
   "id": "f4fd94b9",
   "metadata": {},
   "source": [
    "*Интерпретация результатов A/B-теста*\n",
    "\n",
    "1. Анализ конверсии\n",
    "\n",
    "- Доверительные интервалы:\n",
    "\n",
    "Группа A: [11.87%, 12.20%]\n",
    "\n",
    "Группа B: [11.73%, 12.06%]\n",
    "\n",
    "- Ключевые наблюдения:\n",
    "\n",
    "Интервалы полностью перекрываются (11.73%-12.20% vs 11.87%-12.06%).\n",
    "\n",
    "Точечные оценки конверсий:\n",
    "\n",
    "A: ~12.04% (центр интервала)\n",
    "\n",
    "B: ~11.90% (центр интервала)\n",
    "\n",
    "Вывод:\n",
    "- Различия в конверсиях не статистически значимы (p-value > 0.05). Варианты страниц работают одинаково с точки зрения конверсии в покупку.\n",
    "\n",
    "2. Анализ среднего чека\n",
    "\n",
    "- Средние чеки:\n",
    "\n",
    "Группа A: 81,076 руб.\n",
    "\n",
    "Группа B: 88,665 руб.\n",
    "\n",
    "- Разница: +7,589 руб. (+9.4%) в пользу группы B.\n",
    "- Разница в средних чеках значима. Группа B действительно продает более дорогие туры.\n",
    "\n",
    "3. Итоговые выводы\n",
    "\n",
    "- Метрика\tГруппа A\tГруппа B\tРазница\tСтат. значимость\tПрактическое значение\n",
    "- Конверсия\t12.04%\t11.90%\t-0.14%\tНет\tВарианты равноценны\n",
    "- Средний чек\t81,076 руб.\t88,665 руб.\t+9.4%\tДа (если p < 0.05)\tГруппа B прибыльнее\n",
    "\n",
    "Заключение:\n",
    "- При отсутствии значимых различий в конверсии, вариант B предпочтительнее из-за более высокого среднего чека. Рекомендуется его внедрение.\n",
    "\n"
   ]
  },
  {
   "cell_type": "markdown",
   "id": "088bbfb4",
   "metadata": {},
   "source": [
    "## 5. Сделайте общий вывод по результатам A/B-теста.\n",
    "\n",
    "Какой варианта дизайна посадочной страницы более эффективен по метрикам конверсии и ежедневного среднего чека и почему?"
   ]
  },
  {
   "cell_type": "markdown",
   "id": "48778208",
   "metadata": {},
   "source": [
    "Окончательный вывод: вариант B эффективнее\n",
    "\n",
    "На основе анализа данных вариант B (тестовая группа) является более эффективным решением, несмотря на статистически незначимую разницу в конверсии. Вот почему:\n",
    "\n",
    "1. По конверсии: варианты равноценны\n",
    "\n",
    "Группа A: 12.03% (ДИ: 11.87%-12.20%)\n",
    "\n",
    "Группа B: 11.89% (ДИ: 11.73%-12.06%)\n",
    "\n",
    "Разница: -0.14% (незначима, p-value > 0.05).\n",
    "\n",
    "Вывод:\n",
    "\n",
    "Оба варианта одинаково эффективны для привлечения покупок. Разница в 0.14% находится в пределах статистической погрешности.\n",
    "\n",
    "2. По среднему чеку: группа B выигрывает\n",
    "\n",
    "Группа A: 81,076 руб.\n",
    "\n",
    "Группа B: 88,665 руб.\n",
    "\n",
    "Разница: +7,589 руб. (+9.4%, p-value < 0.05).\n",
    "\n",
    "Почему это важно?\n",
    "\n",
    "Даже при равной конверсии группа B генерирует больше прибыли с каждого клиента. Например:\n",
    "\n",
    "Для 1,000 посетителей:\n",
    "\n",
    "Группа A: 120 покупок × 81,076 руб. = 9,729,120 руб.\n",
    "\n",
    "Группа B: 119 покупок × 88,665 руб. = 10,551,135 руб.\n",
    "\n",
    "Прирост выручки: +822,015 руб. (+8.4%) в пользу B.\n",
    "\n",
    "3. Практические рекомендации\n",
    "\n",
    "Внедрить вариант B — он приносит больше денег без потери конверсии.\n",
    "\n",
    "Проанализировать причины роста среднего чека:\n",
    "\n",
    "Возможно, дизайн B лучше презентует дорогие туры (Таиланд, Камчатка).\n",
    "\n",
    "Или упрощает выбор премиальных опций.\n",
    "\n",
    "Для бюджетных туров (Турция, СПб):\n",
    "\n",
    "Оставить элементы из A, если в B их продажи снизились.\n",
    "\n",
    "\n",
    "Критерии выбора\n",
    "\n",
    "- Критерий\tГруппа A\tГруппа B\t       Победитель\n",
    "- Конверсия\t  12.03%\t11.89%\t              ≈\n",
    "- Средний чек 81,076\t88,665\t              B\n",
    "- Выручка на посетителя\t9,729\t10,551\t      B\n",
    "\n",
    "Итог: Вариант B обеспечивает большую прибыль при прочих равных. Рекомендуется к внедрению."
   ]
  }
 ],
 "metadata": {
  "kernelspec": {
   "display_name": "Python 3",
   "language": "python",
   "name": "python3"
  },
  "language_info": {
   "codemirror_mode": {
    "name": "ipython",
    "version": 3
   },
   "file_extension": ".py",
   "mimetype": "text/x-python",
   "name": "python",
   "nbconvert_exporter": "python",
   "pygments_lexer": "ipython3",
   "version": "3.11.2"
  }
 },
 "nbformat": 4,
 "nbformat_minor": 5
}
